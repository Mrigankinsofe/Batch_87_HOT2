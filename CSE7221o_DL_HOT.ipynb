{
 "cells": [
  {
   "cell_type": "markdown",
   "metadata": {
    "nbgrader": {
     "grade": false,
     "grade_id": "RO_1",
     "locked": true,
     "schema_version": 3,
     "solution": false,
     "task": false
    }
   },
   "source": [
    "## Problem statement\n",
    "### The data set contains laboratory values of blood donors and Hepatitis C patients and demographic values like age.\n",
    "* Problem statement is not straight forward - You can convert the multi class problem to binary class problem looking at the link under the source."
   ]
  },
  {
   "cell_type": "markdown",
   "metadata": {
    "nbgrader": {
     "grade": false,
     "grade_id": "RO_2",
     "locked": true,
     "schema_version": 3,
     "solution": false,
     "task": false
    }
   },
   "source": [
    "## Source"
   ]
  },
  {
   "cell_type": "markdown",
   "metadata": {
    "nbgrader": {
     "grade": false,
     "grade_id": "RO_3",
     "locked": true,
     "schema_version": 3,
     "solution": false,
     "task": false
    }
   },
   "source": [
    "https://archive.ics.uci.edu/ml/datasets/HCV+data\n",
    "    \n",
    "Creators: Ralf Lichtinghagen, Frank Klawonn, Georg Hoffmann\n",
    "Donor: Ralf Lichtinghagen: Institute of Clinical Chemistry; Medical University Hannover (MHH); Hannover, Germany; lichtinghagen.ralf '@' mh-hannover.de\n",
    "Donor: Frank Klawonn; Helmholtz Centre for Infection Research; Braunschweig, Germany; frank.klawonn '@' helmholtz-hzi.de\n",
    "Donor: Georg Hoffmann; Trillium GmbH; Grafrath, Germany; georg.hoffmann '@' trillium.de\n",
    "\n",
    "Citation Request:\n",
    "Please refer to the Machine Learning Repository's citation policy"
   ]
  },
  {
   "cell_type": "markdown",
   "metadata": {
    "nbgrader": {
     "grade": false,
     "grade_id": "RO_4",
     "locked": true,
     "schema_version": 3,
     "solution": false,
     "task": false
    }
   },
   "source": [
    "##### Attributes and the number of missing values in each column\n",
    "* Category 0 - (Target)\n",
    "* Age 0\n",
    "* Sex 0\n",
    "* ALB Albumin blood 1\n",
    "* ALP Alkaline phosphatase 18\n",
    "* ALT Alanine Aminotransferase 1\n",
    "* AST Aspartate Aminotransferase 0\n",
    "* BIL Bilirubin 0\n",
    "* CHE Cholinesterase 0\n",
    "* CHOL Cholesterol 10\n",
    "* CREA Creatinine 0\n",
    "* GGT Gamma-Glutamyl Transferase 0\n",
    "* PROT Protein 1"
   ]
  },
  {
   "cell_type": "markdown",
   "metadata": {
    "nbgrader": {
     "grade": false,
     "grade_id": "RO_5",
     "locked": true,
     "schema_version": 3,
     "solution": false,
     "task": false
    }
   },
   "source": [
    "Learning outcome from this assignment\n",
    "* Able to build a simple Neural network model \n",
    "* Understand the layers, activation functions, epochs and learning rate"
   ]
  },
  {
   "cell_type": "markdown",
   "metadata": {
    "nbgrader": {
     "grade": false,
     "grade_id": "RO_6",
     "locked": true,
     "schema_version": 3,
     "solution": false,
     "task": false
    }
   },
   "source": [
    "## Task1\n",
    "    1.1 Read the data and print the the dimensions of data\n",
    "    Read the dataset with path \"./Data/hcvdata.csv\" and name your dataframe as datadf    \n",
    "    1.2 Subset the relevant columns from the dataframe and check the distribution of Target \n",
    "    1.3 Redefine the class labels"
   ]
  },
  {
   "cell_type": "code",
   "execution_count": 1,
   "metadata": {
    "nbgrader": {
     "grade": false,
     "grade_id": "import",
     "locked": true,
     "schema_version": 3,
     "solution": false,
     "task": false
    }
   },
   "outputs": [],
   "source": [
    "import pandas as pd\n",
    "import numpy as np\n",
    "import random"
   ]
  },
  {
   "cell_type": "code",
   "execution_count": 2,
   "metadata": {
    "nbgrader": {
     "grade": false,
     "grade_id": "Task1_1_Sol",
     "locked": false,
     "schema_version": 3,
     "solution": true,
     "task": false
    }
   },
   "outputs": [],
   "source": [
    "# 1.1 Read the data and print the the dimensions of data\n",
    "# Please remember to name the dataframe as \"datadf\", else this test case will not work.\n",
    "### BEGIN SOLUTION\n",
    "datadf=pd.read_csv(\"./hcvdata.csv\")\n",
    "#print(datadf.shape)\n",
    "### END SOLUTION\n"
   ]
  },
  {
   "cell_type": "code",
   "execution_count": 4,
   "metadata": {
    "nbgrader": {
     "grade": true,
     "grade_id": "Task1_1_Check",
     "locked": true,
     "points": 1,
     "schema_version": 3,
     "solution": false,
     "task": false
    }
   },
   "outputs": [],
   "source": [
    "\"\"\" Please do not delete this cell/section. It is there to validate your work for Task - 1.\n",
    "    \"\"\"\n",
    "### BEGIN HIDDEN TESTS\n",
    "assert(datadf.shape == (615,14))\n",
    "### END HIDDEN TESTS"
   ]
  },
  {
   "cell_type": "code",
   "execution_count": 5,
   "metadata": {
    "nbgrader": {
     "grade": false,
     "grade_id": "Task1_2_Sol",
     "locked": false,
     "schema_version": 3,
     "solution": true,
     "task": false
    }
   },
   "outputs": [
    {
     "name": "stdout",
     "output_type": "stream",
     "text": [
      "0=Blood Donor             533\n",
      "3=Cirrhosis                30\n",
      "1=Hepatitis                24\n",
      "2=Fibrosis                 21\n",
      "0s=suspect Blood Donor      7\n",
      "Name: Category, dtype: int64\n"
     ]
    }
   ],
   "source": [
    "# 1.2 Subset the relevant columns from the dataframe and check the distribution of Target.\n",
    "### BEGIN SOLUTION\n",
    "datadf.drop(['Unnamed: 0'],axis=1,inplace=True)\n",
    "print(datadf['Category'].value_counts())\n",
    "### END SOLUTION\n"
   ]
  },
  {
   "cell_type": "code",
   "execution_count": 6,
   "metadata": {
    "nbgrader": {
     "grade": true,
     "grade_id": "Task1_2_Check",
     "locked": true,
     "points": 1,
     "schema_version": 3,
     "solution": false,
     "task": false
    }
   },
   "outputs": [],
   "source": [
    "\"\"\" Please do not delete this cell/section. It is there to validate your work for Task - 1.\n",
    "    Please finish previous tasks before to this cell/section else you will miss the grade point for Task - 1.\n",
    "    Please remember to name the dataframe as datadf, else this test case will not work.\"\"\"\n",
    "\n",
    "### BEGIN HIDDEN TESTS\n",
    "assert(datadf.shape == (615,13))\n",
    "assert(datadf['Category'].value_counts().index[0] == '0=Blood Donor')\n",
    "assert(datadf['Category'].value_counts()[0] == 533)\n",
    "assert(datadf['Category'].value_counts().index[2] == '1=Hepatitis')\n",
    "assert(datadf['Category'].value_counts()[2] == 24)\n",
    "### END HIDDEN TESTS"
   ]
  },
  {
   "cell_type": "markdown",
   "metadata": {
    "nbgrader": {
     "grade": false,
     "grade_id": "RO_7",
     "locked": true,
     "schema_version": 3,
     "solution": false,
     "task": false
    }
   },
   "source": [
    "* You see there are four classes in the Target Category column. Convert the problem into two classes as Blood Donors(0) vs Hepatitis-C(1).  Include Hepatitis Cm Fibrosis and Cirrhosis under class1"
   ]
  },
  {
   "cell_type": "code",
   "execution_count": 7,
   "metadata": {
    "nbgrader": {
     "grade": false,
     "grade_id": "Task1_3_Sol",
     "locked": false,
     "schema_version": 3,
     "solution": true,
     "task": false
    }
   },
   "outputs": [],
   "source": [
    "# 1.3 Replace (Blood donors with 0 , (Hepatitis C, Fibrosis, Cirrhosis) with 1)\n",
    "### BEGIN SOLUTION\n",
    "datadf.Category.replace([\"0=Blood Donor\",\"0s=suspect Blood Donor\",\"1=Hepatitis\",\"2=Fibrosis\",\"3=Cirrhosis\"],[0,0,1,1,1],inplace=True)\n",
    "### END SOLUTION"
   ]
  },
  {
   "cell_type": "code",
   "execution_count": 8,
   "metadata": {
    "nbgrader": {
     "grade": true,
     "grade_id": "Task1_3_Check",
     "locked": true,
     "points": 1,
     "schema_version": 3,
     "solution": false,
     "task": false
    }
   },
   "outputs": [],
   "source": [
    "\"\"\" Please do not delete this cell/section. It is there to validate your work for Task - 1.\n",
    "    Please finish previous tasks before to this cell/section else you will miss the grade point for Task - 1.\n",
    "    Please remember to name the dataframe as datadf, else this test case will not work.\"\"\"\n",
    "\n",
    "### BEGIN HIDDEN TESTS\n",
    "assert (datadf.Category.value_counts()[0] == 540)\n",
    "assert (datadf.Category.value_counts()[1] == 75)\n",
    "### END HIDDEN TESTS"
   ]
  },
  {
   "cell_type": "markdown",
   "metadata": {
    "nbgrader": {
     "grade": false,
     "grade_id": "R0_8",
     "locked": true,
     "schema_version": 3,
     "solution": false,
     "task": false
    }
   },
   "source": [
    "# Task 2\n",
    "* 2.1 Check the missing values in the data , Impute if there are any.\n",
    "* 2.2 Dummify the Sex variable in the given data - Create datadf_dummy\n",
    "* 2.3 Split the data into train and test 70:30 ratio\n",
    "* 2.4 Separate X and Y from train and test"
   ]
  },
  {
   "cell_type": "code",
   "execution_count": 9,
   "metadata": {
    "nbgrader": {
     "grade": false,
     "grade_id": "Task2_1_Sol",
     "locked": false,
     "schema_version": 3,
     "solution": true,
     "task": false
    }
   },
   "outputs": [],
   "source": [
    "# 2.1 Check the missing values in the data , Impute if there are any.\n",
    "### BEGIN SOLUTION\n",
    "#2.1_2 Impute if there are any.\n",
    "datadf.loc[datadf['ALT'].isna(),'ALT']=datadf['ALT'].mean()\n",
    "datadf.loc[datadf['ALB'].isna(),'ALB']=datadf['ALB'].mean()\n",
    "datadf.loc[datadf['ALP'].isna(),'ALP']=datadf['ALP'].mean()\n",
    "datadf.loc[datadf['CHOL'].isna(),'CHOL']=datadf['CHOL'].mean()\n",
    "datadf.loc[datadf['PROT'].isna(),'PROT']=datadf['PROT'].mean()\n",
    "### END SOLUTION"
   ]
  },
  {
   "cell_type": "code",
   "execution_count": 10,
   "metadata": {
    "nbgrader": {
     "grade": true,
     "grade_id": "Task2_1_Check",
     "locked": true,
     "points": 2,
     "schema_version": 3,
     "solution": false,
     "task": false
    }
   },
   "outputs": [],
   "source": [
    "\"\"\" Please do not delete this cell/section. It is there to validate your work for Task - 2.\n",
    "    Please  finish previous tasks before to this cell/section else you will miss the grade point for Task - 2.\n",
    "    Please remember to name the dataframe as datadf, else this test case will not work.\"\"\"\n",
    "### BEGIN HIDDEN TESTS\n",
    "assert(datadf.isna().sum().sum() == 0)\n",
    "assert(datadf.shape == (615,13))\n",
    "### END HIDDEN TESTS"
   ]
  },
  {
   "cell_type": "code",
   "execution_count": 11,
   "metadata": {
    "nbgrader": {
     "grade": false,
     "grade_id": "Task2_2_Sol",
     "locked": false,
     "schema_version": 3,
     "solution": true,
     "task": false
    }
   },
   "outputs": [
    {
     "name": "stdout",
     "output_type": "stream",
     "text": [
      "Index(['Category', 'Age', 'ALB', 'ALP', 'ALT', 'AST', 'BIL', 'CHE', 'CHOL',\n",
      "       'CREA', 'GGT', 'PROT', 'f', 'm'],\n",
      "      dtype='object')\n"
     ]
    }
   ],
   "source": [
    "# 2.2 Dummify the Sex variable in the given data - Create datadf_dummy using pd.get_dummies()\n",
    "\n",
    "### BEGIN SOLUTION\n",
    "datadf['Sex']=datadf['Sex'].astype('category')\n",
    "datadf_dummy=pd.concat([datadf,pd.get_dummies(datadf['Sex'])],axis=1)\n",
    "datadf_dummy.drop('Sex',axis=1,inplace=True)\n",
    "print(datadf_dummy.columns)\n",
    "###  END SOLUTION"
   ]
  },
  {
   "cell_type": "code",
   "execution_count": 12,
   "metadata": {
    "nbgrader": {
     "grade": true,
     "grade_id": "Task2_2_Check",
     "locked": true,
     "points": 1,
     "schema_version": 3,
     "solution": false,
     "task": false
    }
   },
   "outputs": [],
   "source": [
    "\"\"\" Please do not delete this cell/section. It is there to validate your work for Task - 2.\n",
    "    Please finish previous tasks before to this cell/section else you will miss the grade point for Task - 2.\n",
    "    Please remember to name the dataframe as datadf_dummy, else this test case will not work.\"\"\"\n",
    "### BEGIN HIDDEN TESTS\n",
    "#assert(datadf_dummy.shape == (615,14))\n",
    "assert('m' in datadf_dummy.columns)\n",
    "assert('f' in datadf_dummy.columns)\n",
    "assert(~('Sex' in datadf_dummy.columns) == -1)\n",
    "### END HIDDEN TESTS"
   ]
  },
  {
   "cell_type": "code",
   "execution_count": 13,
   "metadata": {
    "nbgrader": {
     "grade": false,
     "grade_id": "Task2_3_Sol",
     "locked": false,
     "schema_version": 3,
     "solution": true,
     "task": false
    }
   },
   "outputs": [
    {
     "name": "stdout",
     "output_type": "stream",
     "text": [
      "(430, 14)\n",
      "(185, 14)\n"
     ]
    }
   ],
   "source": [
    "#  2.3 Split the data into train and test 70:30 ratio\n",
    "from sklearn.model_selection import train_test_split\n",
    "def splitData(temp):\n",
    "    ### BEGIN SOLUTION\n",
    "    traindata,testdata=train_test_split(temp,test_size=0.3,stratify=temp['Category'],random_state=123)\n",
    "    return traindata,testdata\n",
    "    ### END SOLUTION\n",
    "traindata,testdata=splitData(datadf_dummy)\n",
    "print(traindata.shape)\n",
    "print(testdata.shape)"
   ]
  },
  {
   "cell_type": "code",
   "execution_count": 14,
   "metadata": {
    "nbgrader": {
     "grade": true,
     "grade_id": "Task2_3_Check",
     "locked": true,
     "points": 1,
     "schema_version": 3,
     "solution": false,
     "task": false
    }
   },
   "outputs": [],
   "source": [
    "\"\"\" Please do not delete this cell/section. It is there to validate your work for Task - 2.\n",
    "    Please finish previous tasks before this cell/section else you will miss the grade point for Task - 2.\n",
    "    Please remember to name the dataframe as datadf_dummy, else this test case will not work.\"\"\"\n",
    "### BEGIN HIDDEN TESTS\n",
    "from nose.tools import assert_equal\n",
    "assert_equal(splitData(datadf_dummy)[0].shape,(430,14))\n",
    "assert_equal(splitData(datadf_dummy)[1].shape,(185,14))\n",
    "### END HIDDEN TESTS"
   ]
  },
  {
   "cell_type": "code",
   "execution_count": 15,
   "metadata": {
    "nbgrader": {
     "grade": false,
     "grade_id": "Task2_4_Sol",
     "locked": false,
     "schema_version": 3,
     "solution": true,
     "task": false
    }
   },
   "outputs": [
    {
     "name": "stdout",
     "output_type": "stream",
     "text": [
      "(430, 13)\n",
      "(430, 1)\n",
      "(185, 13)\n",
      "(185, 1)\n"
     ]
    }
   ],
   "source": [
    "# 2.4 Write a function to return X and Y from traindata and testdata\n",
    "def splitDataX_Y(temp):\n",
    "    ### BEGIN SOLUTION\n",
    "    X=temp.iloc[:,1:14]\n",
    "    Y=temp.iloc[:,0:1]\n",
    "    return X,Y\n",
    "    ### END SOLUTION\n",
    "X_train,Y_train=splitDataX_Y(traindata)\n",
    "X_test,Y_test=splitDataX_Y(testdata)\n",
    "print(X_train.shape)\n",
    "print(Y_train.shape)\n",
    "print(X_test.shape)\n",
    "print(Y_test.shape)"
   ]
  },
  {
   "cell_type": "code",
   "execution_count": 16,
   "metadata": {
    "nbgrader": {
     "grade": true,
     "grade_id": "Task2_4_Check",
     "locked": true,
     "points": 1,
     "schema_version": 3,
     "solution": false,
     "task": false
    }
   },
   "outputs": [],
   "source": [
    "\"\"\" Please do not delete this cell/section. It is there to validate your work for Task - 2.\n",
    "    Please finish previous tasks before this cell/section else you will miss the grade point for Task - 2.\n",
    "    Please use the created datasets in the future cells, else this test cases will not work.\"\"\"\n",
    "### BEGIN HIDDEN TESTS\n",
    "from nose.tools import assert_equal\n",
    "assert_equal(X_train.shape,(430, 13))\n",
    "assert_equal(Y_train.shape,(430,1))\n",
    "assert_equal(X_test.shape,((185,13)))\n",
    "assert_equal(Y_test.shape,((185,1)))\n",
    "assert_equal(np.sort(np.unique(Y_train))[0],0)\n",
    "assert_equal(np.sort(np.unique(Y_train))[1],1)\n",
    "assert_equal(np.sort(np.unique(Y_test))[0],0)\n",
    "assert_equal(np.sort(np.unique(Y_test))[1],1)\n",
    "### END HIDDEN TESTS"
   ]
  },
  {
   "cell_type": "markdown",
   "metadata": {
    "nbgrader": {
     "grade": false,
     "grade_id": "RO_9",
     "locked": true,
     "schema_version": 3,
     "solution": false,
     "task": false
    }
   },
   "source": [
    "# Task3\n",
    "* 3.1 Build a Neuranet using sequential model, compile and fit the model. \n",
    "    * 3.1.1 Define a  model with 2 Layers first one with  with 2 neurons,activation function as 'relu' with default kernel intitilizer, an output layer with an activation function as sigmoid\n",
    "    * 3.1.2 Define Optimizer with learning rate 0.01 and Compile the model with metrics as accuracy/Recall and loss='binary_crossentropy'.\n",
    "    * 3.1.3 Fit the model and store history  varaible- batchsize=1,epochs=10.\n",
    "* 3.2 Plot the error of train and test.\n",
    "* 3.3 Calculate the accuracy,F1 score on train and test"
   ]
  },
  {
   "cell_type": "code",
   "execution_count": 17,
   "metadata": {
    "nbgrader": {
     "grade": false,
     "grade_id": "import_keras_others",
     "locked": true,
     "schema_version": 3,
     "solution": false,
     "task": false
    }
   },
   "outputs": [
    {
     "name": "stderr",
     "output_type": "stream",
     "text": [
      "Using TensorFlow backend.\n"
     ]
    }
   ],
   "source": [
    "# Import all necessary modules\n",
    "import keras\n",
    "from keras.models import Sequential\n",
    "from keras.layers import Dense\n",
    "from keras.activations import softmax,relu\n",
    "from keras.optimizers import Adam,SGD\n",
    "from sklearn.metrics import accuracy_score,recall_score,confusion_matrix,f1_score"
   ]
  },
  {
   "cell_type": "code",
   "execution_count": 18,
   "metadata": {
    "nbgrader": {
     "grade": false,
     "grade_id": "Task3_1_1_Sol",
     "locked": false,
     "schema_version": 3,
     "solution": true,
     "task": false
    }
   },
   "outputs": [
    {
     "name": "stdout",
     "output_type": "stream",
     "text": [
      "Model: \"sequential_1\"\n",
      "_________________________________________________________________\n",
      "Layer (type)                 Output Shape              Param #   \n",
      "=================================================================\n",
      "dense_1 (Dense)              (None, 2)                 28        \n",
      "_________________________________________________________________\n",
      "dense_2 (Dense)              (None, 2)                 6         \n",
      "=================================================================\n",
      "Total params: 34\n",
      "Trainable params: 34\n",
      "Non-trainable params: 0\n",
      "_________________________________________________________________\n"
     ]
    }
   ],
   "source": [
    "# 3.1.1 Define a model with 2 Layers first one with 2 neurons, activation function as 'relu' with default kernel initializer, an output layer with an activation function as sigmoid\n",
    "\n",
    "def model_base(number_cols):\n",
    "    ### BEGIN SOLUTION\n",
    "    model=Sequential()\n",
    "    model.add(Dense(2,input_shape=(number_cols,),activation='relu',kernel_initializer='glorot_uniform'))\n",
    "    model.add(Dense(2,activation='sigmoid'))\n",
    "    return model\n",
    "    ### END SOLUTION\n",
    "basemodel=model_base(X_train.shape[1])\n",
    "basemodel.summary()"
   ]
  },
  {
   "cell_type": "code",
   "execution_count": 19,
   "metadata": {
    "nbgrader": {
     "grade": true,
     "grade_id": "Task3_1_1_Check",
     "locked": true,
     "points": 2,
     "schema_version": 3,
     "solution": false,
     "task": false
    }
   },
   "outputs": [],
   "source": [
    "\"\"\" Please do not delete this cell/section. It is there to validate your work for Task - 3.\n",
    "    Please finish finish previous tasks before to this cell/section else you will miss the grade point for Task - 3.\n",
    "    Please do not change the model name 'basemodel' , else this test case will not work.\"\"\"\n",
    "### BEGIN HIDDEN TESTS \n",
    "from nose.tools import assert_equal\n",
    "assert_equal(len(model_base(X_train.shape[1]).layers),2)\n",
    "assert_equal(model_base(X_train.shape[1]).layers[0].get_config()['activation'],'relu')\n",
    "assert_equal(model_base(X_train.shape[1]).layers[1].get_config()['activation'],'sigmoid')\n",
    "assert_equal(model_base(X_train.shape[1]).layers[0].get_config()['batch_input_shape'],(None, X_train.shape[1]))\n",
    "### END HIDDEN TESTS "
   ]
  },
  {
   "cell_type": "code",
   "execution_count": 20,
   "metadata": {
    "nbgrader": {
     "grade": false,
     "grade_id": "Task3_1_2_Sol",
     "locked": false,
     "schema_version": 3,
     "solution": true,
     "task": false
    }
   },
   "outputs": [],
   "source": [
    "# 3.1.2 Define Optimizer with learning rate 0.01 and compile the model with metrics as accuracy and loss='binary_crossentropy'.\n",
    "### BEGIN SOLUTION\n",
    "opt=keras.optimizers.Adam(learning_rate=0.01)\n",
    "basemodel.compile(optimizer=opt,metrics=['accuracy'],loss='binary_crossentropy')\n",
    "### END SOLUTION"
   ]
  },
  {
   "cell_type": "code",
   "execution_count": 21,
   "metadata": {
    "nbgrader": {
     "grade": true,
     "grade_id": "Task3_1_2_Check",
     "locked": true,
     "points": 2,
     "schema_version": 3,
     "solution": false,
     "task": false
    }
   },
   "outputs": [],
   "source": [
    "\"\"\" Please do not delete this cell/section. It is there to validate your work for Task - 3.\n",
    "    Please finish previous tasks before to this cell/section else you will miss the grade point for Task - 3.\n",
    "    else this test case will not work.\"\"\"\n",
    "### BEGIN HIDDEN TESTS \n",
    "assert(basemodel.loss == 'binary_crossentropy')\n",
    "assert(len(basemodel.layers) == 2)\n",
    "assert(np.round_(basemodel.optimizer.get_config()['learning_rate'],decimals=2) == 0.01)\n",
    "### END HIDDEN TESTS "
   ]
  },
  {
   "cell_type": "code",
   "execution_count": 22,
   "metadata": {
    "nbgrader": {
     "grade": false,
     "grade_id": "Task3_1_3_Sol",
     "locked": false,
     "schema_version": 3,
     "solution": true,
     "task": false
    }
   },
   "outputs": [
    {
     "name": "stdout",
     "output_type": "stream",
     "text": [
      "Train on 430 samples, validate on 185 samples\n",
      "Epoch 1/10\n",
      "430/430 [==============================] - 1s 2ms/step - loss: 2.0816 - accuracy: 0.8419 - val_loss: 0.3855 - val_accuracy: 0.8757\n",
      "Epoch 2/10\n",
      "430/430 [==============================] - 1s 1ms/step - loss: 0.3728 - accuracy: 0.8791 - val_loss: 0.3756 - val_accuracy: 0.8757\n",
      "Epoch 3/10\n",
      "430/430 [==============================] - 1s 2ms/step - loss: 0.3702 - accuracy: 0.8791 - val_loss: 0.3755 - val_accuracy: 0.8757\n",
      "Epoch 4/10\n",
      "430/430 [==============================] - 1s 3ms/step - loss: 0.3699 - accuracy: 0.8791 - val_loss: 0.3755 - val_accuracy: 0.8757\n",
      "Epoch 5/10\n",
      "430/430 [==============================] - 1s 2ms/step - loss: 0.3698 - accuracy: 0.8791 - val_loss: 0.3759 - val_accuracy: 0.8757\n",
      "Epoch 6/10\n",
      "430/430 [==============================] - 1s 2ms/step - loss: 0.3702 - accuracy: 0.8791 - val_loss: 0.3756 - val_accuracy: 0.8757\n",
      "Epoch 7/10\n",
      "430/430 [==============================] - 1s 2ms/step - loss: 0.3704 - accuracy: 0.8791 - val_loss: 0.3755 - val_accuracy: 0.8757\n",
      "Epoch 8/10\n",
      "430/430 [==============================] - 1s 2ms/step - loss: 0.3704 - accuracy: 0.8791 - val_loss: 0.3757 - val_accuracy: 0.8757\n",
      "Epoch 9/10\n",
      "430/430 [==============================] - 1s 2ms/step - loss: 0.3709 - accuracy: 0.8791 - val_loss: 0.3756 - val_accuracy: 0.8757\n",
      "Epoch 10/10\n",
      "430/430 [==============================] - 1s 2ms/step - loss: 0.3703 - accuracy: 0.8791 - val_loss: 0.3755 - val_accuracy: 0.8757\n"
     ]
    }
   ],
   "source": [
    "#3.1.3 Fit the model and store history variable, batchsize=1 and epochs=10.\n",
    "# e.g. history = model.fit() (fit the model on traindata with the following parameters epochs=10, validation_data, batch_size=1). \n",
    "# Make sure to convert the y as categorical while fitting the model.\n",
    "\n",
    "### BEGIN SOLUTION\n",
    "from matplotlib import pyplot as plt\n",
    "history=basemodel.fit(X_train,keras.utils.to_categorical(Y_train),epochs=10,validation_data=(X_test,keras.utils.to_categorical(Y_test)),batch_size=1)\n",
    "### END SOLUTION"
   ]
  },
  {
   "cell_type": "code",
   "execution_count": 23,
   "metadata": {
    "nbgrader": {
     "grade": true,
     "grade_id": "Task3_1_3_Check",
     "locked": true,
     "points": 2,
     "schema_version": 3,
     "solution": false,
     "task": false
    }
   },
   "outputs": [],
   "source": [
    "\"\"\" Please do not delete this cell/section. It is there to validate your work for Task - 3.\n",
    "    Please finish previous tasks before to this cell/section else you will miss the grade point for Task - 3.\n",
    "    Plesae use the given parameter values for epochs and batch_size only or else this test case will not work.\"\"\"\n",
    "### BEGIN HIDDEN TESTS \n",
    "#assert(history.params['batch_size'] == 1)\n",
    "assert(history.params['epochs'] == 10)\n",
    "assert(np.round_(basemodel.optimizer.get_config()['learning_rate'],decimals=2) ==0.01)\n",
    "### END HIDDEN TESTS "
   ]
  },
  {
   "cell_type": "code",
   "execution_count": 24,
   "metadata": {
    "nbgrader": {
     "grade": false,
     "grade_id": "Task3_2",
     "locked": true,
     "schema_version": 3,
     "solution": false,
     "task": false
    }
   },
   "outputs": [
    {
     "data": {
      "image/png": "[encoded data removed]",
      "text/plain": [
       "<Figure size 432x288 with 1 Axes>"
      ]
     },
     "metadata": {
      "needs_background": "light"
     },
     "output_type": "display_data"
    }
   ],
   "source": [
    "# 3.2 plot the train accuracy and val_accuracy (validation accuracy) using history variable. Explore history.\n",
    "from matplotlib import pyplot as plt\n",
    "def plthistory(historyrep):\n",
    "    plt.plot(historyrep.history['accuracy'])\n",
    "    plt.plot(historyrep.history['val_accuracy'])\n",
    "    plt.title('model accuracy')\n",
    "    plt.ylabel('accuracy')\n",
    "    plt.ylim(0,1.1)\n",
    "    plt.xlabel('epoch')\n",
    "    plt.legend(['train', 'test'], loc='upper right')\n",
    "    plt.show(True)\n",
    "\n",
    "plthistory(history)"
   ]
  },
  {
   "cell_type": "code",
   "execution_count": 25,
   "metadata": {
    "nbgrader": {
     "grade": false,
     "grade_id": "Task3_3",
     "locked": false,
     "schema_version": 3,
     "solution": true,
     "task": false
    }
   },
   "outputs": [
    {
     "name": "stdout",
     "output_type": "stream",
     "text": [
      "(0.8790697674418605, 0.0)\n",
      "(0.8756756756756757, 0.0)\n"
     ]
    }
   ],
   "source": [
    "# 3.3 Write a function to predict the classes and return accuracy and f1score ; pass the following parameters \n",
    "# model, X and Y\n",
    "def getmetrics(model_param1,data_param2,data_param3):\n",
    "    ### BEGIN SOLUTION\n",
    "    preds=model_param1.predict_classes(data_param2)\n",
    "    acc=accuracy_score(data_param3,preds)\n",
    "    f1score=f1_score(data_param3,preds)\n",
    "    return acc,f1score\n",
    "    ### END SOLUTION\n",
    "print(getmetrics(basemodel,X_train,Y_train))\n",
    "print(getmetrics(basemodel,X_test,Y_test))"
   ]
  },
  {
   "cell_type": "code",
   "execution_count": 26,
   "metadata": {
    "nbgrader": {
     "grade": false,
     "grade_id": "RO_10_Code",
     "locked": true,
     "schema_version": 3,
     "solution": false,
     "task": false
    }
   },
   "outputs": [
    {
     "name": "stdout",
     "output_type": "stream",
     "text": [
      "(0.8790697674418605, 0.0)\n",
      "(0.8756756756756757, 0.0)\n"
     ]
    }
   ],
   "source": [
    "print(getmetrics(basemodel,X_train,Y_train))\n",
    "print(getmetrics(basemodel,X_test,Y_test))"
   ]
  },
  {
   "cell_type": "code",
   "execution_count": 27,
   "metadata": {
    "nbgrader": {
     "grade": true,
     "grade_id": "Task3_3_Sol",
     "locked": true,
     "points": 2,
     "schema_version": 3,
     "solution": false,
     "task": false
    }
   },
   "outputs": [],
   "source": [
    "\"\"\" Please do not delete this cell/section. It is there to validate your work for Task - 3.\n",
    "    Please finish previous tasks before to this cell/section else you will miss the grade point for Task - 3.\n",
    "    Plesae use the given parameter values for epochs and batch_size only or else this test case will not work.\"\"\"\n",
    "### BEGIN HIDDEN TESTS \n",
    "assert(getmetrics(basemodel,X_train,Y_train)[0]>=0.75 and getmetrics(basemodel,X_train,Y_train)[0]<=1.0)\n",
    "assert(getmetrics(basemodel,X_test,Y_test)[0]>0.75)\n",
    "### END HIDDEN TESTS "
   ]
  },
  {
   "cell_type": "markdown",
   "metadata": {
    "nbgrader": {
     "grade": false,
     "grade_id": "RO_11",
     "locked": true,
     "schema_version": 3,
     "solution": false,
     "task": false
    }
   },
   "source": [
    "## Task4\n",
    "* 4.1 Standardize the data using z score -\n",
    "* 4.2 Build a Neuranet using sequential model, compile and fit the model.\n",
    "    * 4.2.1 Define a model with 2 Layers first one with with 2 neurons,activation function as 'relu' with default kernel intitilizer, an output layer with an activation function as sigmoid.\n",
    "    * 4.2.2 Define Optimizer with learning rate 0.01 and Compile the model with metrics as accuracy/Recall and loss='binary_crossentropy'.\n",
    "    * 4.2.3 Fit the model and store history varaible- batchsize=1,epochs=10.\n",
    "* 4.3 Plot the error of train and test.\n",
    "* 4.4 Calculate the accuracy,F1 score on train and test"
   ]
  },
  {
   "cell_type": "code",
   "execution_count": 28,
   "metadata": {
    "nbgrader": {
     "grade": false,
     "grade_id": "Task4_1_1_Sol",
     "locked": false,
     "schema_version": 3,
     "solution": true,
     "task": false
    }
   },
   "outputs": [],
   "source": [
    "# 4.1 Standardize the numerical data - Write a function to return standardized data(X variables of train and test) using z score \n",
    "from sklearn.preprocessing import StandardScaler\n",
    "def std_data(temp1,temp2):\n",
    "    ### BEGIN SOLUTION\n",
    "    standardizer = StandardScaler()\n",
    "    temp1.iloc[:,0:11]=standardizer.fit_transform(temp1.iloc[:,0:11])\n",
    "    temp2.iloc[:,0:11]=standardizer.transform(temp2.iloc[:,0:11])\n",
    "    return temp1,temp2\n",
    "    ### END SOLUTION\n",
    "Xtrain_std,Xtest_std=std_data(X_train.copy(),X_test.copy())\n"
   ]
  },
  {
   "cell_type": "code",
   "execution_count": 29,
   "metadata": {
    "nbgrader": {
     "grade": false,
     "grade_id": "RO_11_Code",
     "locked": true,
     "schema_version": 3,
     "solution": false,
     "task": false
    }
   },
   "outputs": [
    {
     "name": "stdout",
     "output_type": "stream",
     "text": [
      "(430, 13)\n",
      "(185, 13)\n"
     ]
    }
   ],
   "source": [
    "Xtrain_std,Xtest_std=std_data(X_train.copy(),X_test.copy())\n",
    "print(Xtrain_std.shape)\n",
    "print(Xtest_std.shape)"
   ]
  },
  {
   "cell_type": "code",
   "execution_count": 30,
   "metadata": {
    "nbgrader": {
     "grade": true,
     "grade_id": "Task4_1_2",
     "locked": true,
     "points": 2,
     "schema_version": 3,
     "solution": false,
     "task": false
    }
   },
   "outputs": [],
   "source": [
    "\"\"\" Please do not delete this cell/section. It is there to validate your work for Task - 4.\n",
    "    Please finish previous tasks before to this cell/section else you will miss the grade point for Task - 4.\n",
    "    else this test case will not work.\"\"\"\n",
    "### BEGIN HIDDEN TESTS\n",
    "from nose.tools import assert_equal\n",
    "assert_equal(np.round_(Xtrain_std.iloc[:,0].mean()),0.0)\n",
    "assert_equal(np.round_(Xtest_std.iloc[:,0].mean()),0.0)\n",
    "### END HIDDEN TESTS"
   ]
  },
  {
   "cell_type": "code",
   "execution_count": 31,
   "metadata": {
    "nbgrader": {
     "grade": false,
     "grade_id": "Task4_2_1_Sol",
     "locked": false,
     "schema_version": 3,
     "solution": true,
     "task": false
    }
   },
   "outputs": [
    {
     "name": "stdout",
     "output_type": "stream",
     "text": [
      "Model: \"sequential_6\"\n",
      "_________________________________________________________________\n",
      "Layer (type)                 Output Shape              Param #   \n",
      "=================================================================\n",
      "dense_11 (Dense)             (None, 2)                 28        \n",
      "_________________________________________________________________\n",
      "dense_12 (Dense)             (None, 2)                 6         \n",
      "=================================================================\n",
      "Total params: 34\n",
      "Trainable params: 34\n",
      "Non-trainable params: 0\n",
      "_________________________________________________________________\n"
     ]
    }
   ],
   "source": [
    "# 4.2.1 Define a model with name 'model_std' with 2 Layers first one with with 2 neurons,activation function as 'relu' with default kernel intitilizer, an output layer with an activation function as sigmoid.\n",
    "### BEGIN SOLUTION\n",
    "model_std=model_base(Xtrain_std.shape[1])\n",
    "model_std.summary()\n",
    "### END SOLUTION"
   ]
  },
  {
   "cell_type": "code",
   "execution_count": 32,
   "metadata": {
    "nbgrader": {
     "grade": true,
     "grade_id": "Task4_2_1_Check",
     "locked": true,
     "points": 2,
     "schema_version": 3,
     "solution": false,
     "task": false
    }
   },
   "outputs": [],
   "source": [
    "\"\"\" Please do not delete this cell/section. It is there to validate your work for Task - 4.\n",
    "    Please finish  previous tasks before to this cell/section else you will miss the grade point for Task - 4.\n",
    "    Please do not change the model name 'basemodel' , else this test case will not work.\"\"\"\n",
    "### BEGIN HIDDEN TESTS \n",
    "assert_equal(len(model_std.layers),2)\n",
    "assert_equal(model_std.layers[0].get_config()['activation'],'relu')\n",
    "assert_equal(model_std.layers[1].get_config()['activation'],'sigmoid')\n",
    "assert_equal(model_std.layers[0].get_config()['batch_input_shape'],(None, Xtrain_std.shape[1]))\n",
    "\n",
    "### END HIDDEN TESTS "
   ]
  },
  {
   "cell_type": "code",
   "execution_count": 33,
   "metadata": {
    "nbgrader": {
     "grade": false,
     "grade_id": "Task4_2_2and3_Sol",
     "locked": false,
     "schema_version": 3,
     "solution": true,
     "task": false
    }
   },
   "outputs": [
    {
     "name": "stdout",
     "output_type": "stream",
     "text": [
      "Train on 430 samples, validate on 185 samples\n",
      "Epoch 1/10\n",
      "430/430 [==============================] - 1s 2ms/step - loss: 0.3618 - accuracy: 0.8907 - val_loss: 0.2392 - val_accuracy: 0.9081\n",
      "Epoch 2/10\n",
      "430/430 [==============================] - 1s 2ms/step - loss: 0.1639 - accuracy: 0.9349 - val_loss: 0.1415 - val_accuracy: 0.9459\n",
      "Epoch 3/10\n",
      "430/430 [==============================] - 1s 2ms/step - loss: 0.1239 - accuracy: 0.9581 - val_loss: 0.1260 - val_accuracy: 0.9541\n",
      "Epoch 4/10\n",
      "430/430 [==============================] - 1s 2ms/step - loss: 0.1083 - accuracy: 0.9593 - val_loss: 0.1076 - val_accuracy: 0.9595\n",
      "Epoch 5/10\n",
      "430/430 [==============================] - 1s 2ms/step - loss: 0.1068 - accuracy: 0.9663 - val_loss: 0.0985 - val_accuracy: 0.9730\n",
      "Epoch 6/10\n",
      "430/430 [==============================] - ETA: 0s - loss: 0.0978 - accuracy: 0.96 - 1s 2ms/step - loss: 0.1040 - accuracy: 0.9663 - val_loss: 0.0981 - val_accuracy: 0.9730\n",
      "Epoch 7/10\n",
      "430/430 [==============================] - 1s 2ms/step - loss: 0.0987 - accuracy: 0.9605 - val_loss: 0.1129 - val_accuracy: 0.9730\n",
      "Epoch 8/10\n",
      "430/430 [==============================] - 1s 2ms/step - loss: 0.0964 - accuracy: 0.9605 - val_loss: 0.1049 - val_accuracy: 0.9676\n",
      "Epoch 9/10\n",
      "430/430 [==============================] - 1s 2ms/step - loss: 0.0951 - accuracy: 0.9558 - val_loss: 0.1014 - val_accuracy: 0.9757\n",
      "Epoch 10/10\n",
      "430/430 [==============================] - 1s 1ms/step - loss: 0.0892 - accuracy: 0.9628 - val_loss: 0.1051 - val_accuracy: 0.9730\n"
     ]
    }
   ],
   "source": [
    "# 4.2.2 Define Optimizer with learning rate 0.01 and Compile the model with metrics as accuracy/Recall and loss='binary_crossentropy'.\n",
    "# 4.2.3 Fit the model and store history variable -'history_std' batchsize=1,epochs=10\n",
    "# Make sure to convert the target to category\n",
    "### BEGIN SOLUTION\n",
    "opt=keras.optimizers.Adam(learning_rate=0.01)\n",
    "model_std.compile(optimizer=opt,metrics=['accuracy'],loss='binary_crossentropy')\n",
    "history_std=model_std.fit(Xtrain_std,keras.utils.to_categorical(Y_train),epochs=10,validation_data=(Xtest_std,keras.utils.to_categorical(Y_test)),batch_size=1)\n",
    "### END SOLUTION"
   ]
  },
  {
   "cell_type": "code",
   "execution_count": 34,
   "metadata": {
    "nbgrader": {
     "grade": true,
     "grade_id": "Task4_2_2and3_Check",
     "locked": true,
     "points": 2,
     "schema_version": 3,
     "solution": false,
     "task": false
    }
   },
   "outputs": [],
   "source": [
    "\"\"\" Please do not delete this cell/section. It is there to validate your work for Task - 4.\n",
    "    Please finish previous tasks before to this cell/section else you will miss the grade point for Task - 4.\n",
    "    else this test case will not work.\"\"\"\n",
    "### BEGIN HIDDEN TESTS \n",
    "assert(basemodel.loss == 'binary_crossentropy')\n",
    "assert(len(basemodel.layers) == 2)\n",
    "assert(np.round_(basemodel.optimizer.get_config()['learning_rate'],decimals=2) == 0.01)\n",
    "#assert(history_std.params['batch_size'] == 1)\n",
    "assert(history_std.params['epochs'] == 10)\n",
    "### END HIDDEN TESTS "
   ]
  },
  {
   "cell_type": "code",
   "execution_count": 35,
   "metadata": {
    "nbgrader": {
     "grade": false,
     "grade_id": "Task4_3",
     "locked": true,
     "schema_version": 3,
     "solution": false,
     "task": false
    }
   },
   "outputs": [
    {
     "data": {
      "image/png": "[encoded data removed]",
      "text/plain": [
       "<Figure size 432x288 with 1 Axes>"
      ]
     },
     "metadata": {
      "needs_background": "light"
     },
     "output_type": "display_data"
    }
   ],
   "source": [
    "# Plot the error of train and test.\n",
    "plthistory(history_std)"
   ]
  },
  {
   "cell_type": "code",
   "execution_count": 36,
   "metadata": {
    "nbgrader": {
     "grade": false,
     "grade_id": "RO_12_Code",
     "locked": true,
     "schema_version": 3,
     "solution": false,
     "task": false
    }
   },
   "outputs": [
    {
     "name": "stdout",
     "output_type": "stream",
     "text": [
      "(0.9627906976744186, 0.8297872340425532)\n",
      "(0.972972972972973, 0.8837209302325583)\n"
     ]
    }
   ],
   "source": [
    "# Calculate the accuracy, F1 score on train and test\n",
    "print(getmetrics(model_std,Xtrain_std,Y_train))\n",
    "print(getmetrics(model_std,Xtest_std,Y_test))"
   ]
  },
  {
   "cell_type": "code",
   "execution_count": 37,
   "metadata": {
    "nbgrader": {
     "grade": true,
     "grade_id": "Task4_3_Sol",
     "locked": true,
     "points": 2,
     "schema_version": 3,
     "solution": false,
     "task": false
    }
   },
   "outputs": [],
   "source": [
    "\"\"\" Please do not delete this cell/section. It is there to validate your work for Task - 4.\n",
    "    Please finish previous tasks before to this cell/section else you will miss the grade point for Task - 4.\n",
    "    Plesae use the given parameter values for epochs and batch_size only or else this test case will not work.\"\"\"\n",
    "### BEGIN HIDDEN TESTS \n",
    "assert(getmetrics(model_std,Xtrain_std,Y_train)[0]>=0.90 and getmetrics(model_std,Xtrain_std,Y_train)[0]<=1.0)\n",
    "assert(getmetrics(model_std,Xtrain_std,Y_train)[1]>=0.80 and getmetrics(model_std,Xtrain_std,Y_train)[1]<=1.0)\n",
    "assert(getmetrics(model_std,Xtest_std,Y_test)[0]>=0.90 and getmetrics(model_std,Xtest_std,Y_test)[0]<=1.0)\n",
    "assert(getmetrics(model_std,Xtest_std,Y_test)[1]>=0.75 and getmetrics(model_std,Xtest_std,Y_test)[1]<=1.0)\n",
    "### END HIDDEN TESTS "
   ]
  },
  {
   "cell_type": "markdown",
   "metadata": {
    "nbgrader": {
     "grade": false,
     "grade_id": "RO_13",
     "locked": true,
     "schema_version": 3,
     "solution": false,
     "task": false
    }
   },
   "source": [
    "### Task5\n",
    "* 5.1 Build a Neuranet using sequential model, compile and fit the model.\n",
    "    * 5.1.1 Define a model with the name 'model2' with 2 Layers first one with 5 neurons, activation function as 'relu' with default kernel intitilizer, an output layer with an activation function as sigmoid.\n",
    "    * 5.1.2 Define Optimizer with learning rate 0.01 and compile the model with metrics as accuracy and loss='binary_crossentropy'.\n",
    "    * 5.1.3 Fit the model and store history variable- batchsize=1,epochs=10.\n",
    "    * 5.1.4 Plot the error of train and test.\n",
    "* 5.2 Calculate the accuracy, F1 score on train and test"
   ]
  },
  {
   "cell_type": "code",
   "execution_count": 38,
   "metadata": {
    "nbgrader": {
     "grade": false,
     "grade_id": "Task5_1_Sol",
     "locked": false,
     "schema_version": 3,
     "solution": true,
     "task": false
    }
   },
   "outputs": [
    {
     "name": "stdout",
     "output_type": "stream",
     "text": [
      "Train on 430 samples, validate on 185 samples\n",
      "Epoch 1/20\n",
      "430/430 [==============================] - 1s 2ms/step - loss: 0.2387 - accuracy: 0.9023 - val_loss: 0.1833 - val_accuracy: 0.9351\n",
      "Epoch 2/20\n",
      "430/430 [==============================] - 1s 1ms/step - loss: 0.1032 - accuracy: 0.9663 - val_loss: 0.1685 - val_accuracy: 0.9378\n",
      "Epoch 3/20\n",
      "430/430 [==============================] - 1s 2ms/step - loss: 0.0988 - accuracy: 0.9663 - val_loss: 0.1477 - val_accuracy: 0.9378\n",
      "Epoch 4/20\n",
      "430/430 [==============================] - 1s 2ms/step - loss: 0.0753 - accuracy: 0.9756 - val_loss: 0.1108 - val_accuracy: 0.9595\n",
      "Epoch 5/20\n",
      "430/430 [==============================] - 1s 2ms/step - loss: 0.0701 - accuracy: 0.9767 - val_loss: 0.1254 - val_accuracy: 0.9486\n",
      "Epoch 6/20\n",
      "430/430 [==============================] - 1s 2ms/step - loss: 0.0658 - accuracy: 0.9779 - val_loss: 0.1089 - val_accuracy: 0.9622\n",
      "Epoch 7/20\n",
      "430/430 [==============================] - 1s 2ms/step - loss: 0.0573 - accuracy: 0.9826 - val_loss: 0.1384 - val_accuracy: 0.9514\n",
      "Epoch 8/20\n",
      "430/430 [==============================] - 1s 2ms/step - loss: 0.0527 - accuracy: 0.9814 - val_loss: 0.1184 - val_accuracy: 0.9568\n",
      "Epoch 9/20\n",
      "430/430 [==============================] - 1s 2ms/step - loss: 0.0438 - accuracy: 0.9849 - val_loss: 0.1410 - val_accuracy: 0.9568\n",
      "Epoch 10/20\n",
      "430/430 [==============================] - 1s 2ms/step - loss: 0.0483 - accuracy: 0.9860 - val_loss: 0.1150 - val_accuracy: 0.9730\n",
      "Epoch 11/20\n",
      "430/430 [==============================] - 1s 2ms/step - loss: 0.0442 - accuracy: 0.9837 - val_loss: 0.1204 - val_accuracy: 0.9622\n",
      "Epoch 12/20\n",
      "430/430 [==============================] - 1s 2ms/step - loss: 0.0408 - accuracy: 0.9767 - val_loss: 0.1809 - val_accuracy: 0.9541\n",
      "Epoch 13/20\n",
      "430/430 [==============================] - 1s 2ms/step - loss: 0.0407 - accuracy: 0.9814 - val_loss: 0.1462 - val_accuracy: 0.9676\n",
      "Epoch 14/20\n",
      "430/430 [==============================] - 1s 2ms/step - loss: 0.0335 - accuracy: 0.9895 - val_loss: 0.1710 - val_accuracy: 0.9541\n",
      "Epoch 15/20\n",
      "430/430 [==============================] - 1s 1ms/step - loss: 0.0348 - accuracy: 0.9837 - val_loss: 0.1380 - val_accuracy: 0.9595\n",
      "Epoch 16/20\n",
      "430/430 [==============================] - 1s 2ms/step - loss: 0.0254 - accuracy: 0.9884 - val_loss: 0.1542 - val_accuracy: 0.9568\n",
      "Epoch 17/20\n",
      "430/430 [==============================] - 1s 2ms/step - loss: 0.0251 - accuracy: 0.9884 - val_loss: 0.1526 - val_accuracy: 0.9622\n",
      "Epoch 18/20\n",
      "430/430 [==============================] - 1s 1ms/step - loss: 0.0204 - accuracy: 0.9953 - val_loss: 0.1879 - val_accuracy: 0.9622\n",
      "Epoch 19/20\n",
      "430/430 [==============================] - 1s 2ms/step - loss: 0.0160 - accuracy: 0.9953 - val_loss: 0.1983 - val_accuracy: 0.9676\n",
      "Epoch 20/20\n",
      "430/430 [==============================] - 1s 2ms/step - loss: 0.0137 - accuracy: 0.9930 - val_loss: 0.2147 - val_accuracy: 0.9595\n"
     ]
    },
    {
     "data": {
      "image/png": "[encoded data removed]",
      "text/plain": [
       "<Figure size 432x288 with 1 Axes>"
      ]
     },
     "metadata": {
      "needs_background": "light"
     },
     "output_type": "display_data"
    },
    {
     "name": "stdout",
     "output_type": "stream",
     "text": [
      "(0.9930232558139535, 0.9702970297029703)\n",
      "(0.9567567567567568, 0.7999999999999999)\n"
     ]
    }
   ],
   "source": [
    "# 5.1 Build a Neural network using Sequential model, compile and fit the model with your choice of parameters.\n",
    "# 5.1.1 Define a model 'model2' \n",
    "# 5.1.2 Define Optimizer, compile the model\n",
    "# 5.1.3 Fit the model and store history variable\n",
    "# 5.1.4 Plot the error of train and test\n",
    "# 5.1.5 Calculate the accuracy and f1 score on train and test\n",
    "\n",
    "# BEGIN SOLUTION\n",
    "model2=Sequential()\n",
    "model2.add(Dense(5,input_shape=(Xtrain_std.shape[1],),activation='relu',kernel_initializer='glorot_uniform'))\n",
    "model2.add(Dense(2,activation='sigmoid'))\n",
    "\n",
    "opt=keras.optimizers.Adam(learning_rate=0.01)\n",
    "model2.compile(optimizer=opt,metrics=['accuracy'],loss='binary_crossentropy')\n",
    "history_2=model2.fit(Xtrain_std,keras.utils.to_categorical(Y_train),epochs=20,validation_data=(Xtest_std,keras.utils.to_categorical(Y_test)),batch_size=1)\n",
    "plthistory(history_2)\n",
    "# END SOLUTION\n",
    "print(getmetrics(model2,Xtrain_std,Y_train))\n",
    "print(getmetrics(model2,Xtest_std,Y_test))"
   ]
  },
  {
   "cell_type": "code",
   "execution_count": 39,
   "metadata": {
    "nbgrader": {
     "grade": true,
     "grade_id": "Task5_1_Check",
     "locked": true,
     "points": 2,
     "schema_version": 3,
     "solution": false,
     "task": false
    }
   },
   "outputs": [],
   "source": [
    "\"\"\" Please do not delete this cell/section. It is there to validate your work for Task - 5.\n",
    "    Make sure to use the name of the model as 'model2'. Please finish previous tasks before to this cell/section else you will miss the grade point for Task - 5.\n",
    "    else this test case will not work.\"\"\"\n",
    "### BEGIN HIDDEN TESTS \n",
    "assert(getmetrics(model2,Xtrain_std,Y_train)[0]>=0.9 and getmetrics(model_std,Xtrain_std,Y_train)[0]<=1.0)\n",
    "assert(getmetrics(model2,Xtrain_std,Y_train)[1]>=0.8 and getmetrics(model_std,Xtrain_std,Y_train)[1]<=1.0)\n",
    "assert(getmetrics(model2,Xtest_std,Y_test)[0]>=0.9 and getmetrics(model_std,Xtest_std,Y_test)[0]<=1.0)\n",
    "assert(getmetrics(model2,Xtest_std,Y_test)[1]>=0.7 and getmetrics(model_std,Xtest_std,Y_test)[1]<=1.0)\n",
    "\n",
    "### END HIDDEN TESTS "
   ]
  },
  {
   "cell_type": "code",
   "execution_count": 40,
   "metadata": {
    "nbgrader": {
     "grade": false,
     "grade_id": "RO_14_Code",
     "locked": true,
     "schema_version": 3,
     "solution": false,
     "task": false
    }
   },
   "outputs": [
    {
     "name": "stdout",
     "output_type": "stream",
     "text": [
      "(0.9930232558139535, 0.9702970297029703)\n",
      "(0.9567567567567568, 0.7999999999999999)\n"
     ]
    }
   ],
   "source": [
    "print(getmetrics(model2,Xtrain_std,Y_train))\n",
    "print(getmetrics(model2,Xtest_std,Y_test))"
   ]
  }
 ],
 "metadata": {
  "celltoolbar": "Create Assignment",
  "kernelspec": {
   "display_name": "Python 3",
   "language": "python",
   "name": "python3"
  },
  "language_info": {
   "codemirror_mode": {
    "name": "ipython",
    "version": 3
   },
   "file_extension": ".py",
   "mimetype": "text/x-python",
   "name": "python",
   "nbconvert_exporter": "python",
   "pygments_lexer": "ipython3",
   "version": "3.8.5"
  }
 },
 "nbformat": 4,
 "nbformat_minor": 2
}
