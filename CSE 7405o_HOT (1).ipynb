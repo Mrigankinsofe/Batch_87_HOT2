{
 "cells": [
  {
   "cell_type": "markdown",
   "metadata": {
    "nbgrader": {
     "grade": false,
     "grade_id": "Header",
     "locked": true,
     "schema_version": 3,
     "solution": false,
     "task": false
    }
   },
   "source": [
    " <center>\n",
    "    <h1> Bankruptcy Prediction</h1>\n",
    "</center>"
   ]
  },
  {
   "cell_type": "markdown",
   "metadata": {
    "nbgrader": {
     "grade": false,
     "grade_id": "RO_1",
     "locked": true,
     "schema_version": 3,
     "solution": false,
     "task": false
    }
   },
   "source": [
    "# Introduction\n",
    "Being able to predict Bankruptcy of a company well in advance is of great importance to the various stakeholders of the company and also help in economic decision making. The purpose of our research is to study the suitability of major bankruptcy prediction models by applying them to the dataset provided to us. Our attempts of bankruptcy prediction are based on various Machine Learning Models such as Decision Trees, Bagging, Random Forest, AdaBoost, XGboost etc. This report is an empirical study of bankruptcy prediction based on data set provided to us, mainly focusing on tackling imbalance and the comparison of different methods.\n",
    "\n"
   ]
  },
  {
   "cell_type": "markdown",
   "metadata": {
    "nbgrader": {
     "grade": false,
     "grade_id": "RO_2",
     "locked": true,
     "schema_version": 3,
     "solution": false,
     "task": false
    }
   },
   "source": [
    "# Dataset"
   ]
  },
  {
   "cell_type": "markdown",
   "metadata": {
    "nbgrader": {
     "grade": false,
     "grade_id": "RO_3",
     "locked": true,
     "schema_version": 3,
     "solution": false,
     "task": false
    }
   },
   "source": [
    "The dataset is about bankruptcy prediction of Polish companies. The data was collected from Emerging Markets Information Service (EMIS, <a href=\"https://www.emis.com/\">Web_Link</a>), which is a database containing information on emerging markets around the world. The bankrupt companies were analyzed in the period 2000-2012, while the still operating companies were evaluated from 2007 to 2013."
   ]
  },
  {
   "cell_type": "markdown",
   "metadata": {
    "nbgrader": {
     "grade": false,
     "grade_id": "RO_4",
     "locked": true,
     "schema_version": 3,
     "solution": false,
     "task": false
    }
   },
   "source": [
    "# Source"
   ]
  },
  {
   "cell_type": "markdown",
   "metadata": {
    "nbgrader": {
     "grade": false,
     "grade_id": "RO_5",
     "locked": true,
     "schema_version": 3,
     "solution": false,
     "task": false
    }
   },
   "source": [
    "https://archive.ics.uci.edu/ml/datasets/Polish+companies+bankruptcy+data\n",
    "\n",
    "\n",
    "\n",
    "Creator: Sebastian Tomczak\n",
    "-- Department of Operations Research, WrocÅ‚aw University of Science and Technology, wybrzeÅ¼e WyspiaÅ„skiego 27, 50-370, WrocÅ‚aw, Poland\n",
    "\n",
    "Donor: Sebastian Tomczak (sebastian.tomczak '@' pwr.edu.pl), Maciej Zieba (maciej.zieba '@' pwr.edu.pl), Jakub M. Tomczak (jakub.tomczak '@' pwr.edu.pl), Tel. (+48) 71 320 44 53\n",
    "\n",
    "\n",
    "### Citation Request:\n",
    "\n",
    "Zieba, M., Tomczak, S. K., & Tomczak, J. M. (2016). Ensemble Boosted Trees with Synthetic Features Generation in Application to Bankruptcy Prediction. Expert Systems with Applications."
   ]
  },
  {
   "cell_type": "markdown",
   "metadata": {
    "nbgrader": {
     "grade": false,
     "grade_id": "RO_6",
     "locked": true,
     "schema_version": 3,
     "solution": false,
     "task": false
    }
   },
   "source": [
    "### Feature Description"
   ]
  },
  {
   "cell_type": "markdown",
   "metadata": {
    "nbgrader": {
     "grade": false,
     "grade_id": "RO_7",
     "locked": true,
     "schema_version": 3,
     "solution": false,
     "task": false
    }
   },
   "source": [
    "Attribute Information:\n",
    "\n",
    "- X1 net profit / total assets\n",
    "- X2 total liabilities / total assets\n",
    "- X3 working capital / total assets\n",
    "- X4 current assets / short-term liabilities\n",
    "- X5 [(cash + short-term securities + receivables - short-term liabilities) / (operating expenses - depreciation)] * 365\n",
    "- X6 retained earnings / total assets\n",
    "- X7 EBIT / total assets\n",
    "- X8 book value of equity / total liabilities\n",
    "- X9 sales / total assets\n",
    "- X10 equity / total assets\n",
    "- X11 (gross profit + extraordinary items + financial expenses) / total assets\n",
    "- X12 gross profit / short-term liabilities\n",
    "- X13 (gross profit + depreciation) / sales\n",
    "- X14 (gross profit + interest) / total assets\n",
    "- X15 (total liabilities * 365) / (gross profit + depreciation)\n",
    "- X16 (gross profit + depreciation) / total liabilities\n",
    "- X17 total assets / total liabilities\n",
    "- X18 gross profit / total assets\n",
    "- X19 gross profit / sales\n",
    "- X20 (inventory * 365) / sales\n",
    "- X21 sales (n) / sales (n-1)\n",
    "- X22 profit on operating activities / total assets\n",
    "- X23 net profit / sales\n",
    "- X24 gross profit (in 3 years) / total assets\n",
    "- X25 (equity - share capital) / total assets\n",
    "- X26 (net profit + depreciation) / total liabilities\n",
    "- X27 profit on operating activities / financial expenses\n",
    "- X28 working capital / fixed assets\n",
    "- X29 logarithm of total assets\n",
    "- X30 (total liabilities - cash) / sales\n",
    "- X31 (gross profit + interest) / sales\n",
    "- X32 (current liabilities * 365) / cost of products sold\n",
    "- X33 operating expenses / short-term liabilities\n",
    "- X34 operating expenses / total liabilities\n",
    "- X35 profit on sales / total assets\n",
    "- X36 total sales / total assets\n",
    "- X37 (current assets - inventories) / long-term liabilities\n",
    "- X38 constant capital / total assets\n",
    "- X39 profit on sales / sales\n",
    "- X40 (current assets - inventory - receivables) / short-term liabilities\n",
    "- X41 total liabilities / ((profit on operating activities + depreciation) * (12/365))\n",
    "- X42 profit on operating activities / sales\n",
    "- X43 rotation receivables + inventory turnover in days\n",
    "- X44 (receivables * 365) / sales\n",
    "- X45 net profit / inventory\n",
    "- X46 (current assets - inventory) / short-term liabilities\n",
    "- X47 (inventory * 365) / cost of products sold\n",
    "- X48 EBITDA (profit on operating activities - depreciation) / total assets\n",
    "- X49 EBITDA (profit on operating activities - depreciation) / sales\n",
    "- X50 current assets / total liabilities\n",
    "- X51 short-term liabilities / total assets\n",
    "- X52 (short-term liabilities * 365) / cost of products sold)\n",
    "- X53 equity / fixed assets\n",
    "- X54 constant capital / fixed assets\n",
    "- X55 working capital\n",
    "- X56 (sales - cost of products sold) / sales\n",
    "- X57 (current assets - inventory - short-term liabilities) / (sales - gross profit - depreciation)\n",
    "- X58 total costs /total sales\n",
    "- X59 long-term liabilities / equity\n",
    "- X60 sales / inventory\n",
    "- X61 sales / receivables\n",
    "- X62 (short-term liabilities *365) / sales\n",
    "- X63 sales / short-term liabilities\n",
    "- X64 sales / fixed assets"
   ]
  },
  {
   "cell_type": "markdown",
   "metadata": {
    "nbgrader": {
     "grade": false,
     "grade_id": "RO_8",
     "locked": true,
     "schema_version": 3,
     "solution": false,
     "task": false
    }
   },
   "source": [
    "#### Learning outcome from this assignment\n",
    "\n",
    "Here expectation is that you will be able to read all the details about the problem statement , understand the concept and also\n",
    "read additional details about this sector or domain. When you do some research about the domain, you may come up with some interesting ideas about feature processing or engineering, which is definitely going to help you in improving the overall performance of the model.\n",
    "\n",
    "Also, we expect you to be able to apply ML techniques that you have learned in this module like\n",
    "- KNN\n",
    "- Decision Tree"
   ]
  },
  {
   "cell_type": "code",
   "execution_count": 24,
   "metadata": {
    "nbgrader": {
     "grade": false,
     "grade_id": "Imports",
     "locked": true,
     "schema_version": 3,
     "solution": false,
     "task": false
    }
   },
   "outputs": [],
   "source": [
    "import warnings\n",
    "import pandas as pd\n",
    "import numpy as np\n",
    "\n",
    "from sklearn.model_selection import train_test_split\n",
    "from sklearn.neighbors import KNeighborsClassifier\n",
    "from sklearn.tree import DecisionTreeClassifier\n",
    "\n",
    "from sklearn.impute import SimpleImputer\n",
    "from sklearn.preprocessing import StandardScaler\n",
    "\n",
    "from sklearn.metrics import recall_score, f1_score\n",
    "\n",
    "warnings.filterwarnings(\"ignore\")"
   ]
  },
  {
   "cell_type": "markdown",
   "metadata": {
    "nbgrader": {
     "grade": false,
     "grade_id": "Task_1_Prb_Desc",
     "locked": true,
     "schema_version": 3,
     "solution": false,
     "task": false
    }
   },
   "source": [
    "### Task 1\n",
    "\n",
    "We have provided you the dataset, please change your working directory and read the data:\n",
    "\n",
    "* Use below path to access Train and Test datasets:\n",
    "    * Train set - '/home/datasets/lab/ML_HOT/ML_HOT_bankruptcy.csv'\n",
    "    * Test set - '/home/datasets/lab/ML_HOT/ML_HOT_test_dataset.csv'\n",
    "\n",
    "Please do not change the name of the dataframe in the below section, you need to use the exact same name as **datadf**"
   ]
  },
  {
   "cell_type": "code",
   "execution_count": 13,
   "metadata": {
    "nbgrader": {
     "grade": false,
     "grade_id": "Task_1_Sol",
     "locked": false,
     "schema_version": 3,
     "solution": true,
     "task": false
    }
   },
   "outputs": [],
   "source": [
    "### Please write your code here for Task - 1. Please remember that you need to write all your code in the cell/section only.\n",
    "### Do not use multiple section to write this code.\n",
    "# Remember to give the name of the dataframe as datadf\n",
    "### BEGIN SOLUTION\n",
    "datadf = pd.read_csv(\"/home/datasets/lab/ML_HOT/ML_HOT_bankruptcy.csv\")\n",
    "### END SOLUTION"
   ]
  },
  {
   "cell_type": "code",
   "execution_count": 14,
   "metadata": {
    "nbgrader": {
     "grade": true,
     "grade_id": "Task_1_Sol_Check",
     "locked": true,
     "points": 1,
     "schema_version": 3,
     "solution": false,
     "task": false
    }
   },
   "outputs": [],
   "source": [
    "\"\"\" Please do not delete this cell/section. It is there to validate your work for Task - 1.\n",
    "    Please finish Task - 1 before to this cell/section else you will miss the grade point for Task - 1.\n",
    "    Please remember to name the dataframe as datadf, else this test case will not work.\"\"\"\n",
    "### BEGIN HIDDEN TESTS\n",
    "assert(datadf.shape == (43379, 65))\n",
    "### END HIDDEN TESTS"
   ]
  },
  {
   "cell_type": "markdown",
   "metadata": {
    "nbgrader": {
     "grade": false,
     "grade_id": "Task_2_Prb_Desc",
     "locked": true,
     "schema_version": 3,
     "solution": false,
     "task": false
    }
   },
   "source": [
    "### Taks 2\n",
    "\n",
    "- In this task we want to come up with a solution to replace or impute the NA values present in the data.\n",
    "- You are free to choose any of the strategy you think is appropriate for the domain, or based upon your analysis of the \n",
    "problem.\n",
    "- After you have completed this task, there should not be any NA values in the dataset."
   ]
  },
  {
   "cell_type": "code",
   "execution_count": 15,
   "metadata": {
    "nbgrader": {
     "grade": false,
     "grade_id": "Task_2_Sol",
     "locked": false,
     "schema_version": 3,
     "solution": true,
     "task": false
    }
   },
   "outputs": [],
   "source": [
    "\"\"\" Please write your code here for Task 2\"\"\"\n",
    "### BEGIN SOLUTION\n",
    "na_count = datadf.isnull().sum(axis=1)\n",
    "datadf.drop(\"Attr37\", axis=1, inplace = True)# Because more than 40% na value\n",
    "datadf[\"na_count\"] = na_count\n",
    "datadf = datadf.fillna(0)\n",
    "### END SOLUTION"
   ]
  },
  {
   "cell_type": "code",
   "execution_count": 16,
   "metadata": {
    "nbgrader": {
     "grade": true,
     "grade_id": "Task_2_Sol_Check",
     "locked": true,
     "points": 2,
     "schema_version": 3,
     "solution": false,
     "task": false
    }
   },
   "outputs": [],
   "source": [
    "\"\"\" Please do not delete this cell/section. It is there to validate your work for Task - 2.\n",
    "    Please finish Task - 2 before to this cell/section else you will miss the grade point for Task - 2.\n",
    "    Please do not change the name of the dataframe from datadf to anything else.\"\"\"\n",
    "### BEGIN HIDDEN TESTS\n",
    "assert datadf.isnull().sum().sum() == 0\n",
    "### END HIDDEN TESTS"
   ]
  },
  {
   "cell_type": "markdown",
   "metadata": {
    "nbgrader": {
     "grade": false,
     "grade_id": "Task_3_Prb_Desc",
     "locked": true,
     "schema_version": 3,
     "solution": false,
     "task": false
    }
   },
   "source": [
    "### Task 3\n",
    "\n",
    "### Feature Engineering and Data Preprocessing\n",
    "\n",
    "The given Data are various Ratios used for analysing the financial health of a company. Apart from the given variables some derived variables might be useful in predicting the Bankruptcy, while some of the featutres might not be as useful. So in this section we will first try to add some new features which we think might be useful in prediction. We will then build models on the new dataset with added features. \n",
    "\n",
    "- **Here we will show example of one such feature that you need to include to the already existing features**\n",
    "<br>\n",
    "<br> total_assets = 10^(X29)\n",
    "\n",
    "After Task 3 we would expect a column called <b> total_assets </b> to be added to the dataframe <b> datadf </b>"
   ]
  },
  {
   "cell_type": "code",
   "execution_count": 17,
   "metadata": {
    "nbgrader": {
     "grade": false,
     "grade_id": "Task_3_Sol",
     "locked": false,
     "schema_version": 3,
     "solution": true,
     "task": false
    }
   },
   "outputs": [],
   "source": [
    "\"\"\" Please write your code here for Task 3\"\"\"\n",
    "### BEGIN SOLUTION\n",
    "datadf[\"total_assets\"] = 10**datadf.Attr29\n",
    "### END SOLUTION"
   ]
  },
  {
   "cell_type": "code",
   "execution_count": 18,
   "metadata": {
    "nbgrader": {
     "grade": true,
     "grade_id": "Task_3_Sol_Check",
     "locked": true,
     "points": 2,
     "schema_version": 3,
     "solution": false,
     "task": false
    }
   },
   "outputs": [],
   "source": [
    "\"\"\" Please do not delete this cell/section. It is there to validate your work for Task - 3.\n",
    "    Please finish Task - 3 before to this cell/section else you will miss the grade point for Task - 3.\n",
    "    Please do not change the name of the dataframe from datadf to anything else.\"\"\"\n",
    "### BEGIN HIDDEN TESTS\n",
    "assert ('total_assets' in datadf.columns)\n",
    "### END HIDDEN TESTS"
   ]
  },
  {
   "cell_type": "markdown",
   "metadata": {
    "nbgrader": {
     "grade": false,
     "grade_id": "RO_9",
     "locked": true,
     "schema_version": 3,
     "solution": false,
     "task": false
    }
   },
   "source": [
    "### Feature Engineering and Data Preprocessing\n",
    "\n",
    "\n",
    "Apart from Task 3 you are also free to generate any new features which you think are going to help you in increasing\n",
    "the prediction capability of your model.\n",
    "\n",
    "In Task 3 we just show you one way to do that, and expect you to come up with some new features."
   ]
  },
  {
   "cell_type": "markdown",
   "metadata": {
    "nbgrader": {
     "grade": false,
     "grade_id": "Task_4_Prb_Desc",
     "locked": true,
     "schema_version": 3,
     "solution": false,
     "task": false
    }
   },
   "source": [
    "### Task 4\n",
    "\n",
    "Make a train, test  split with test size= 0.3 and store the result X_train, X_test, y_train, y_test.\n",
    "\n",
    "Please use the train and test data-set names as we have given in the description of this task, if you use any other\n",
    "names you will not get the assigned grade points of this task."
   ]
  },
  {
   "cell_type": "code",
   "execution_count": 19,
   "metadata": {
    "nbgrader": {
     "grade": false,
     "grade_id": "Task_4_Sol",
     "locked": false,
     "schema_version": 3,
     "solution": true,
     "task": false
    }
   },
   "outputs": [],
   "source": [
    "\"\"\"Write your code here for Task 4\"\"\"\n",
    "### BEGIN SOLUTION\n",
    "X = datadf.drop(\"class\", axis=1)\n",
    "y = datadf[\"class\"]\n",
    "\n",
    "X_train, X_test, y_train, y_test = train_test_split(X, y, test_size = 0.3, random_state = 123, stratify = y)\n",
    "### END SOLUTION"
   ]
  },
  {
   "cell_type": "code",
   "execution_count": 20,
   "metadata": {
    "nbgrader": {
     "grade": true,
     "grade_id": "Task_4_Sol_Check",
     "locked": true,
     "points": 2,
     "schema_version": 3,
     "solution": false,
     "task": false
    }
   },
   "outputs": [],
   "source": [
    "\"\"\" Please do not delete this cell/section. It is there to validate your work for Task - 4.\n",
    "    Please finish Task - 4 before to this cell/section else you will miss the grade point for Task - 4.\n",
    "    Please use the name of the variables as given in the description of the Task 4.\"\"\"\n",
    "### BEGIN HIDDEN TESTS\n",
    "assert(X_train.shape[0] > 1)\n",
    "assert(y_train.shape[0] > 1)\n",
    "assert(X_test.shape[0] > 1)\n",
    "assert(y_test.shape[0] > 1)\n",
    "\n",
    "### END HIDDEN TESTS\n"
   ]
  },
  {
   "cell_type": "markdown",
   "metadata": {
    "nbgrader": {
     "grade": false,
     "grade_id": "Task_5_Prb_Desc",
     "locked": true,
     "schema_version": 3,
     "solution": false,
     "task": false
    }
   },
   "source": [
    "### Task 5\n",
    "\n",
    "Standardize the X_train, X_test dataframes and store the result X_train_std, X_test_std.\n",
    "\n",
    "Please use the train and test data-set names as we have given in the description of this task, if you use any other\n",
    "names you will not get the assigned grade points of this task."
   ]
  },
  {
   "cell_type": "code",
   "execution_count": 21,
   "metadata": {
    "nbgrader": {
     "grade": false,
     "grade_id": "Task_5_Sol",
     "locked": false,
     "schema_version": 3,
     "solution": true,
     "task": false
    }
   },
   "outputs": [],
   "source": [
    "\"\"\"Write your code here for Task 5\"\"\"\n",
    "### BEGIN SOLUTION\n",
    "scaler = StandardScaler()\n",
    "scaler.fit(X_train)\n",
    "\n",
    "X_train_std = X_train.copy()\n",
    "X_test_std = X_test.copy()\n",
    "\n",
    "\n",
    "X_train_std.loc[:,:]=scaler.transform(X_train)\n",
    "X_test_std.loc[:,:]=scaler.transform(X_test)\n",
    "\n",
    "### END SOLUTION"
   ]
  },
  {
   "cell_type": "code",
   "execution_count": 22,
   "metadata": {
    "nbgrader": {
     "grade": true,
     "grade_id": "Task_5_Sol_Check",
     "locked": true,
     "points": 2,
     "schema_version": 3,
     "solution": false,
     "task": false
    }
   },
   "outputs": [],
   "source": [
    "\"\"\" Please do not delete this cell/section. It is there to validate your work for Task - 5.\n",
    "    Please finish Task - 5 before to this cell/section else you will miss the grade point for Task - 5.\n",
    "    Please use the name of the variables as given in the description of the Task 5.\"\"\"\n",
    "\n",
    "### BEGIN HIDDEN TESTS\n",
    "assert(np.all(round(X_train_std.apply(np.mean)) == 0))\n",
    "assert(np.all(round(X_train_std.apply(np.std)) == 1))\n",
    "### END HIDDEN TESTS\n"
   ]
  },
  {
   "cell_type": "markdown",
   "metadata": {
    "nbgrader": {
     "grade": false,
     "grade_id": "RO_10",
     "locked": true,
     "schema_version": 3,
     "solution": false,
     "task": false
    }
   },
   "source": [
    "### Model Building\n",
    "\n",
    "- We want to you to build different models for this classification task.\n"
   ]
  },
  {
   "cell_type": "markdown",
   "metadata": {
    "nbgrader": {
     "grade": false,
     "grade_id": "Task_6_Prb_Desc",
     "locked": true,
     "schema_version": 3,
     "solution": false,
     "task": false
    }
   },
   "source": [
    "### Task 6\n",
    "\n",
    "- As part of this task please build a ML model using KNN.\n",
    "- Please use the name of the model object as **knn_model**.\n",
    "- You are free to choose any of the hyperparameters you want while building this model.\n",
    "- You are free to use any of the hyperparamters tuning technique you want.\n",
    "- Please use the name of the model as  **knn_model**  else you will not get the grade points for this task."
   ]
  },
  {
   "cell_type": "code",
   "execution_count": 28,
   "metadata": {
    "nbgrader": {
     "grade": false,
     "grade_id": "Task_6_Sol",
     "locked": false,
     "schema_version": 3,
     "solution": true,
     "task": false
    }
   },
   "outputs": [
    {
     "name": "stdout",
     "output_type": "stream",
     "text": [
      "F1 train: 0.2883569096844396\n",
      "F1 test: 0.13178294573643412\n",
      "Recall train 0.181631254283756\n",
      "Recall test 0.08146964856230032\n"
     ]
    }
   ],
   "source": [
    "\"\"\" Please write your code here for Task 6\"\"\"\n",
    "### BEGIN SOLUTION\n",
    "\n",
    "knn_model= KNeighborsClassifier()\n",
    "knn_model.fit(X_train_std,y_train)\n",
    "\n",
    "## Predictions on test set\n",
    "pred_train = knn_model.predict(X=X_train_std)\n",
    "pred_test = knn_model.predict(X=X_test_std)\n",
    "\n",
    "## Evaluate function\n",
    "def evaluate(y_train,y_test,pred_train,pred_test):\n",
    "    print(\"F1 Score train :\",f1_score(y_train,pred_train))\n",
    "    print(\"F1 Score test  :\",f1_score(y_test,pred_test))\n",
    "\n",
    "    print(\"Recall train   :\",recall_score(y_train,pred_train))\n",
    "    print(\"Recall test    :\",recall_score(y_test,pred_test))\n",
    "\n",
    "\n",
    "## Evaluation\n",
    "evaluate(y_train,y_test,pred_train,pred_test)\n",
    "\n",
    "### END SOLUTION"
   ]
  },
  {
   "cell_type": "code",
   "execution_count": 43,
   "metadata": {
    "nbgrader": {
     "grade": true,
     "grade_id": "Task_6_Sol_Check",
     "locked": true,
     "points": 2,
     "schema_version": 3,
     "solution": false,
     "task": false
    }
   },
   "outputs": [
    {
     "name": "stdout",
     "output_type": "stream",
     "text": [
      "KNeighborsClassifier(algorithm='auto', leaf_size=30, metric='minkowski',\n",
      "                     metric_params=None, n_jobs=None, n_neighbors=5, p=2,\n",
      "                     weights='uniform')\n"
     ]
    }
   ],
   "source": [
    "\"\"\" Please do not delete this cell/section. It is there to validate your work for Task - 6.\n",
    "    This test case will check for the existance and validity of the KNN model which you have created.\n",
    "    It expects the name of the model to be knn_model, else this test case will fail, even if you have a valid model\n",
    "    with another name.\"\"\"\n",
    "\n",
    "## model\n",
    "print(knn_model)\n",
    "\n",
    "### BEGIN HIDDEN TESTS\n",
    "assert (knn_model.predict(X_test_std).shape == y_test.shape)\n",
    "### END HIDDEN TESTS"
   ]
  },
  {
   "cell_type": "markdown",
   "metadata": {
    "nbgrader": {
     "grade": false,
     "grade_id": "Task_7_Prb_Desc",
     "locked": true,
     "schema_version": 3,
     "solution": false,
     "task": false
    }
   },
   "source": [
    "### Task 7\n",
    "\n",
    "- As part of this task please build a ML model using Decision Trees.\n",
    "- Please use the name of the model as **dectree_model**.\n",
    "- You are free to choose any of the hyperparameters you want while building this model. \n",
    "- You are free to use any of the hyperparamters tuning technique you want.\n",
    "- Please use the name of the model as  **dectree_model**  else you will not get the grade points for this task."
   ]
  },
  {
   "cell_type": "code",
   "execution_count": 44,
   "metadata": {
    "nbgrader": {
     "grade": false,
     "grade_id": "Task_7_Sol",
     "locked": false,
     "schema_version": 3,
     "solution": true,
     "task": false
    }
   },
   "outputs": [
    {
     "name": "stdout",
     "output_type": "stream",
     "text": [
      "F1 Score train : 1.0\n",
      "F1 Score test  : 0.4674329501915709\n",
      "Recall train   : 1.0\n",
      "Recall test    : 0.48722044728434505\n"
     ]
    }
   ],
   "source": [
    "\"\"\" Please write your code here for Task 7\"\"\"\n",
    "### BEGIN SOLUTION\n",
    "\n",
    "dectree_model = DecisionTreeClassifier()\n",
    "dectree_model.fit(X_train_std,y_train)\n",
    "\n",
    "## Predictions on test set\n",
    "pred_train = dectree_model.predict(X=X_train)\n",
    "pred_test = dectree_model.predict(X=X_test)\n",
    "\n",
    "## Evaluate function\n",
    "def evaluate(y_train,y_test,pred_train,pred_test):\n",
    "    print(\"F1 Score train :\",f1_score(y_train,pred_train))\n",
    "    print(\"F1 Score test  :\",f1_score(y_test,pred_test))\n",
    "\n",
    "    print(\"Recall train   :\",recall_score(y_train,pred_train))\n",
    "    print(\"Recall test    :\",recall_score(y_test,pred_test))\n",
    "\n",
    "\n",
    "## Evaluation\n",
    "evaluate(y_train,y_test,pred_train,pred_test)\n",
    "\n",
    "### END SOLUTION"
   ]
  },
  {
   "cell_type": "code",
   "execution_count": 45,
   "metadata": {
    "nbgrader": {
     "grade": true,
     "grade_id": "Task_7_Sol_Check",
     "locked": true,
     "points": 2,
     "schema_version": 3,
     "solution": false,
     "task": false
    }
   },
   "outputs": [
    {
     "name": "stdout",
     "output_type": "stream",
     "text": [
      "DecisionTreeClassifier(ccp_alpha=0.0, class_weight=None, criterion='gini',\n",
      "                       max_depth=None, max_features=None, max_leaf_nodes=None,\n",
      "                       min_impurity_decrease=0.0, min_impurity_split=None,\n",
      "                       min_samples_leaf=1, min_samples_split=2,\n",
      "                       min_weight_fraction_leaf=0.0, presort='deprecated',\n",
      "                       random_state=None, splitter='best')\n"
     ]
    }
   ],
   "source": [
    "\"\"\" Please do not delete this cell/section. It is there to validate your work for Task - 7.\n",
    "    This test case will check for the existance and validity of the Decision Tree model which you have created.\n",
    "    It expects the name of the model to be dectree_model, else this test case will fail, even if you have a valid model\n",
    "    with another name.\"\"\"\n",
    "\n",
    "## model\n",
    "print(dectree_model)\n",
    "\n",
    "### BEGIN HIDDEN TESTS\n",
    "assert (dectree_model.predict(X_test).shape == y_test.shape)\n",
    "### END HIDDEN TESTS"
   ]
  },
  {
   "cell_type": "markdown",
   "metadata": {
    "nbgrader": {
     "grade": false,
     "grade_id": "Task_8_Prb_Desc",
     "locked": true,
     "schema_version": 3,
     "solution": false,
     "task": false
    }
   },
   "source": [
    "### Task - 8\n",
    "\n",
    "We have another dataset called `test_dataset` where we have only the features, there will be no target variable in the `test_dataset`. \n",
    "\n",
    "We have the original target values with us, which we will compare with your `prediction`, to see the accuracies of your models.\n",
    "\n",
    "**_Hint: Make sure that the test data is in the same format as your train._**\n",
    "\n",
    "**Note: - Here we are using `f1-score` as the evaluation metric.**\n",
    "      \n",
    "There will be a cell with a test case to evaluate Task - 7, please make sure that you finish all of your coding activity to make the prediction before to that cell/section.\n",
    "\n",
    "<p style=\"color:red\">Please ensure that you use your <b>best model</b> to do the <b>prediction</b> and you should create a <b>list</b> with your <b>prediction result</b>.\n",
    "For example if your <b>test_dataset</b> have <b>3</b> records then your <b>prediction result</b> should be a list like this <b>[0,0,1]</b> a <b>list</b> with <b>3</b> values.</p>\n",
    "\n",
    "Make sure you name that list as **`pred_result_list`**."
   ]
  },
  {
   "cell_type": "code",
   "execution_count": 51,
   "metadata": {
    "nbgrader": {
     "grade": false,
     "grade_id": "Task_8_Sol",
     "locked": false,
     "schema_version": 3,
     "solution": true,
     "task": false
    }
   },
   "outputs": [],
   "source": [
    "\"\"\" Write your code here for Task 7\"\"\"\n",
    "\n",
    "### BEGIN SOLUTION\n",
    "\n",
    "## Reading the data\n",
    "testdf = pd.read_csv(\"/home/datasets/lab/ML_HOT/ML_HOT_test_dataset.csv\")\n",
    "\n",
    "## Pre-processing\n",
    "na_count = testdf.isnull().sum(axis=1)\n",
    "testdf.drop(\"Attr37\", axis=1, inplace = True)# Because more than 40% na value\n",
    "testdf[\"na_count\"] = na_count\n",
    "testdf = testdf.fillna(0)\n",
    "tot_assets = 10**testdf.Attr29\n",
    "testdf[\"total_assets\"] = tot_assets\n",
    "\n",
    "## Predict\n",
    "test_pred = dectree_model.predict(testdf)\n",
    "pred_result_list = list(test_pred)\n",
    "\n",
    "### END SOLUTION"
   ]
  },
  {
   "cell_type": "markdown",
   "metadata": {
    "nbgrader": {
     "grade": false,
     "grade_id": "Task_8_Prb_Desc2",
     "locked": true,
     "schema_version": 3,
     "solution": false,
     "task": false
    }
   },
   "source": [
    "Please make sure that the prediction you have obtained from the `test-dataset`, you stored it in a list called **`pred_result_list`**, otherwise you will have problem in the auto evaluation test case.\n",
    "\n",
    "Please make sure that you do not sort or modify the order of the `test_dataset`, you should consider it as it is, and generate your prediction sequentially for each of the test record."
   ]
  },
  {
   "cell_type": "code",
   "execution_count": 52,
   "metadata": {
    "nbgrader": {
     "grade": true,
     "grade_id": "Task_8_Sol_Check1",
     "locked": true,
     "points": 2,
     "schema_version": 3,
     "solution": false,
     "task": false
    }
   },
   "outputs": [],
   "source": [
    "\"\"\" Please do not delete this cell/section. It is there to validate your work for Task - 8.\n",
    "    Please finish Task - 8 before to this cell/section else you will miss the grade point for this task.\n",
    "    This test case is going to see if your f1 score is more than .5 or not\"\"\"\n",
    "### BEGIN HIDDEN TESTS\n",
    "hidden_list = [0, 0, 0, 0, 0, 0, 0, 0, 0, 0, 0, 0, 0, 0, 0, 0, 0, 0, 0, 0, 1, 1, 1, 1, 1, 1]\n",
    "score = f1_score(hidden_list, pred_result_list)\n",
    "assert score >= 0.5, \"f1 score greater than 0.5\" \n",
    "### END HIDDEN TESTS"
   ]
  },
  {
   "cell_type": "code",
   "execution_count": 52,
   "metadata": {
    "nbgrader": {
     "grade": true,
     "grade_id": "Task_8_Sol_Check2",
     "locked": true,
     "points": 1,
     "schema_version": 3,
     "solution": false,
     "task": false
    }
   },
   "outputs": [],
   "source": [
    "\"\"\" Please do not delete this cell/section. It is there to validate your work for Task - 8.\n",
    "    Please finish Task - 8 before to this cell/section else you will miss the grade point for this task.\n",
    "    This test case is going to see if your f1 score is more than .3 or not\"\"\"\n",
    "### BEGIN HIDDEN TESTS\n",
    "hidden_list = [0, 0, 0, 0, 0, 0, 0, 0, 0, 0, 0, 0, 0, 0, 0, 0, 0, 0, 0, 0, 1, 1, 1, 1, 1, 1]\n",
    "score = f1_score(hidden_list, pred_result_list)\n",
    "assert score < 0.5, \"f1 score greater than 0.5\" \n",
    "assert score >= 0.3, \"f1 score less than 0.3\"\n",
    "### END HIDDEN TESTS"
   ]
  },
  {
   "cell_type": "code",
   "execution_count": null,
   "metadata": {},
   "outputs": [],
   "source": []
  }
 ],
 "metadata": {
  "celltoolbar": "Create Assignment",
  "kernelspec": {
   "display_name": "Python 3",
   "language": "python",
   "name": "python3"
  },
  "language_info": {
   "codemirror_mode": {
    "name": "ipython",
    "version": 3
   },
   "file_extension": ".py",
   "mimetype": "text/x-python",
   "name": "python",
   "nbconvert_exporter": "python",
   "pygments_lexer": "ipython3",
   "version": "3.8.5"
  }
 },
 "nbformat": 4,
 "nbformat_minor": 4
}
